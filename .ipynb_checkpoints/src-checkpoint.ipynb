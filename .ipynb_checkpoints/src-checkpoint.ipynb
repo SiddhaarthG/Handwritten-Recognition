{
 "cells": [
  {
   "cell_type": "markdown",
   "id": "61633a6d",
   "metadata": {},
   "source": [
    "# Import the required libraries"
   ]
  },
  {
   "cell_type": "code",
   "execution_count": 1,
   "id": "542514d7",
   "metadata": {},
   "outputs": [
    {
     "name": "stderr",
     "output_type": "stream",
     "text": [
      "/home/siddhaarth/anaconda3/lib/python3.10/site-packages/torchvision/io/image.py:13: UserWarning: Failed to load image Python extension: /home/siddhaarth/anaconda3/lib/python3.10/site-packages/torchvision/image.so: undefined symbol: _ZN2at4_ops19empty_memory_format4callEN3c108ArrayRefIlEENS2_8optionalINS2_10ScalarTypeEEENS5_INS2_6LayoutEEENS5_INS2_6DeviceEEENS5_IbEENS5_INS2_12MemoryFormatEEE\n",
      "  warn(f\"Failed to load image Python extension: {e}\")\n"
     ]
    }
   ],
   "source": [
    "import numpy as np\n",
    "import matplotlib.pyplot as plt\n",
    "import cv2\n",
    "import os\n",
    "from sklearn import svm\n",
    "from sklearn.model_selection import train_test_split\n",
    "from sklearn.metrics import accuracy_score\n",
    "from sklearn.preprocessing import StandardScaler\n",
    "import joblib\n",
    "from PIL import Image\n",
    "from torchvision import datasets, transforms\n",
    "import torch\n",
    "import torch.nn as nn\n",
    "import torch.optim as optim\n",
    "import torchvision.models as models"
   ]
  },
  {
   "cell_type": "code",
   "execution_count": 2,
   "id": "046ec627",
   "metadata": {},
   "outputs": [
    {
     "data": {
      "text/plain": [
       "<torch._C.Generator at 0x7f1e49523d90>"
      ]
     },
     "execution_count": 2,
     "metadata": {},
     "output_type": "execute_result"
    }
   ],
   "source": [
    "# Set random seed for reproducibility\n",
    "np.random.seed(42)\n",
    "torch.manual_seed(42)"
   ]
  },
  {
   "cell_type": "markdown",
   "id": "af553bc1",
   "metadata": {},
   "source": [
    "# AlexNet-based feature extractor"
   ]
  },
  {
   "cell_type": "code",
   "execution_count": 3,
   "id": "d0a61c4d",
   "metadata": {},
   "outputs": [],
   "source": [
    "class AlexNetFeatureExtractor(nn.Module):\n",
    "    def __init__(self, pretrained=True):\n",
    "        super(AlexNetFeatureExtractor, self).__init__()\n",
    "        self.features = models.alexnet(pretrained=pretrained).features\n",
    "    \n",
    "    def forward(self, x):\n",
    "        x = self.features(x)\n",
    "        x = torch.flatten(x, 1)\n",
    "        return x"
   ]
  },
  {
   "cell_type": "markdown",
   "id": "722a6163",
   "metadata": {},
   "source": [
    "# SVM classifier"
   ]
  },
  {
   "cell_type": "code",
   "execution_count": 4,
   "id": "ccbc6275",
   "metadata": {},
   "outputs": [],
   "source": [
    "class SVMClassifier:\n",
    "    def __init__(self):\n",
    "        self.scaler = StandardScaler()\n",
    "        self.classifier = svm.SVC(kernel='rbf')\n",
    "    \n",
    "    def train(self, X, y):\n",
    "        X = self.scaler.fit_transform(X)\n",
    "        self.classifier.fit(X, y)\n",
    "    \n",
    "    def predict(self, X):\n",
    "        X = self.scaler.transform(X)\n",
    "        return self.classifier.predict(X)"
   ]
  },
  {
   "cell_type": "markdown",
   "id": "f32470db",
   "metadata": {},
   "source": [
    "# Define the path to the dataset directory"
   ]
  },
  {
   "cell_type": "code",
   "execution_count": 5,
   "id": "a62f94fb",
   "metadata": {},
   "outputs": [],
   "source": [
    "dataset_path = \"./dataset\""
   ]
  },
  {
   "cell_type": "markdown",
   "id": "ea0314fd",
   "metadata": {},
   "source": [
    "# Training and Testing process"
   ]
  },
  {
   "cell_type": "code",
   "execution_count": 6,
   "id": "2f396a75",
   "metadata": {},
   "outputs": [],
   "source": [
    "# Load the dataset and apply transformations\n",
    "transform = transforms.Compose([\n",
    "    transforms.Resize((224, 224)),\n",
    "    transforms.Grayscale(num_output_channels=3),  # Convert to RGB format\n",
    "    transforms.ToTensor(),\n",
    "    transforms.Normalize((0.5,), (0.5,))\n",
    "])\n",
    "dataset = datasets.ImageFolder(dataset_path, transform=transform)"
   ]
  },
  {
   "cell_type": "code",
   "execution_count": 7,
   "id": "7becc3fb",
   "metadata": {},
   "outputs": [],
   "source": [
    "# Split the dataset into training and testing sets\n",
    "train_set, test_set = train_test_split(dataset, test_size=0.2, random_state=42)"
   ]
  },
  {
   "cell_type": "code",
   "execution_count": 8,
   "id": "363583aa",
   "metadata": {},
   "outputs": [],
   "source": [
    "# Create the data loaders\n",
    "train_loader = torch.utils.data.DataLoader(train_set, batch_size=32, shuffle=True)\n",
    "test_loader = torch.utils.data.DataLoader(test_set, batch_size=32, shuffle=False)"
   ]
  },
  {
   "cell_type": "code",
   "execution_count": 9,
   "id": "667d3fea",
   "metadata": {},
   "outputs": [
    {
     "name": "stderr",
     "output_type": "stream",
     "text": [
      "/home/siddhaarth/anaconda3/lib/python3.10/site-packages/torchvision/models/_utils.py:208: UserWarning: The parameter 'pretrained' is deprecated since 0.13 and will be removed in 0.15, please use 'weights' instead.\n",
      "  warnings.warn(\n",
      "/home/siddhaarth/anaconda3/lib/python3.10/site-packages/torchvision/models/_utils.py:223: UserWarning: Arguments other than a weight enum or `None` for 'weights' are deprecated since 0.13 and will be removed in 0.15. The current behavior is equivalent to passing `weights=AlexNet_Weights.IMAGENET1K_V1`. You can also use `weights=AlexNet_Weights.DEFAULT` to get the most up-to-date weights.\n",
      "  warnings.warn(msg)\n"
     ]
    }
   ],
   "source": [
    "# Create an instance of the AlexNet feature extractor\n",
    "feature_extractor = AlexNetFeatureExtractor()"
   ]
  },
  {
   "cell_type": "code",
   "execution_count": 10,
   "id": "a156c229",
   "metadata": {},
   "outputs": [],
   "source": [
    "# Extract features from the training set\n",
    "train_features = []\n",
    "train_labels = []\n",
    "for images, labels in train_loader:\n",
    "    features = feature_extractor(images)\n",
    "    train_features.extend(features.detach().numpy())\n",
    "    train_labels.extend(labels.numpy())"
   ]
  },
  {
   "cell_type": "code",
   "execution_count": 11,
   "id": "032f581b",
   "metadata": {},
   "outputs": [],
   "source": [
    "# Train the SVM classifier\n",
    "svm_classifier = SVMClassifier()\n",
    "svm_classifier.train(train_features, train_labels)"
   ]
  },
  {
   "cell_type": "code",
   "execution_count": 12,
   "id": "3255e367",
   "metadata": {},
   "outputs": [],
   "source": [
    "# Extract features from the testing set\n",
    "test_features = []\n",
    "test_labels = []\n",
    "for images, labels in test_loader:\n",
    "    features = feature_extractor(images)\n",
    "    test_features.extend(features.detach().numpy())\n",
    "    test_labels.extend(labels.numpy())"
   ]
  },
  {
   "cell_type": "code",
   "execution_count": 13,
   "id": "ade3dc56",
   "metadata": {},
   "outputs": [],
   "source": [
    "# Make predictions using the trained classifier\n",
    "predictions = svm_classifier.predict(test_features)"
   ]
  },
  {
   "cell_type": "markdown",
   "id": "3a59d413",
   "metadata": {},
   "source": [
    "# Calculate Accuracy"
   ]
  },
  {
   "cell_type": "code",
   "execution_count": 14,
   "id": "cdb9d85e",
   "metadata": {},
   "outputs": [
    {
     "name": "stdout",
     "output_type": "stream",
     "text": [
      "Accuracy: 0.9503968253968254\n"
     ]
    }
   ],
   "source": [
    "accuracy = accuracy_score(test_labels, predictions)\n",
    "print(\"Accuracy:\", accuracy)"
   ]
  },
  {
   "cell_type": "code",
   "execution_count": 15,
   "id": "807b0063",
   "metadata": {
    "scrolled": true
   },
   "outputs": [
    {
     "data": {
      "text/plain": [
       "['svm_classifier.pkl']"
      ]
     },
     "execution_count": 15,
     "metadata": {},
     "output_type": "execute_result"
    }
   ],
   "source": [
    "# Save the trained classifier\n",
    "joblib.dump(svm_classifier, \"svm_classifier.pkl\")"
   ]
  },
  {
   "cell_type": "markdown",
   "id": "6884a453",
   "metadata": {},
   "source": [
    "# Prediction"
   ]
  },
  {
   "cell_type": "code",
   "execution_count": 16,
   "id": "64c8e409",
   "metadata": {},
   "outputs": [
    {
     "name": "stdout",
     "output_type": "stream",
     "text": [
      "Medicine:  DOLO650\n"
     ]
    }
   ],
   "source": [
    "# Load the trained classifier\n",
    "svm_classifier = joblib.load(\"svm_classifier.pkl\")\n",
    "\n",
    "# List of input image paths\n",
    "image_paths = [\"characters/d.png\", \"characters/o.png\", \"characters/l.png\", \"characters/o.png\", \"characters/6.png\", \"characters/5.png\", \"characters/0.png\"]\n",
    "\n",
    "# List to store predicted class names\n",
    "predicted_classes = []\n",
    "\n",
    "# Process each input image\n",
    "for image_path in image_paths:\n",
    "    # Load and preprocess the input image\n",
    "    input_image = Image.open(image_path)\n",
    "    input_image = transform(input_image).unsqueeze(0)\n",
    "\n",
    "    # Extract features from the input image\n",
    "    input_features = feature_extractor(input_image).detach().numpy()\n",
    "\n",
    "    # Make a prediction using the trained classifier\n",
    "    prediction = svm_classifier.predict(input_features)\n",
    "\n",
    "    # Convert the predicted label index to the corresponding class name\n",
    "    class_names = dataset.classes\n",
    "    predicted_class = class_names[prediction[0]]\n",
    "\n",
    "    # Append the predicted class to the list\n",
    "    predicted_classes.append(predicted_class)\n",
    "\n",
    "# Print the predicted class names\n",
    "med = \"\".join(predicted_classes)\n",
    "print(\"Medicine: \",med)"
   ]
  },
  {
   "cell_type": "markdown",
   "id": "7f2c5010",
   "metadata": {},
   "source": [
    "# Performance measures"
   ]
  },
  {
   "cell_type": "code",
   "execution_count": 17,
   "id": "ad8cb813",
   "metadata": {},
   "outputs": [
    {
     "name": "stdout",
     "output_type": "stream",
     "text": [
      "Confusion Matrix:\n",
      "[[ 9  0  0 ...  0  0  0]\n",
      " [ 0 11  0 ...  0  0  0]\n",
      " [ 0  0 15 ...  0  0  0]\n",
      " ...\n",
      " [ 0  0  0 ... 12  0  0]\n",
      " [ 0  0  0 ...  0 14  0]\n",
      " [ 0  0  0 ...  0  0 17]]\n"
     ]
    }
   ],
   "source": [
    "from sklearn.metrics import confusion_matrix\n",
    "\n",
    "# Compute the confusion matrix\n",
    "confusion_mat = confusion_matrix(test_labels, predictions)\n",
    "print(\"Confusion Matrix:\")\n",
    "print(confusion_mat)\n"
   ]
  },
  {
   "cell_type": "code",
   "execution_count": 18,
   "id": "c495852d",
   "metadata": {},
   "outputs": [
    {
     "name": "stdout",
     "output_type": "stream",
     "text": [
      "F1 Score: 0.9604954111002498\n"
     ]
    }
   ],
   "source": [
    "from sklearn.metrics import f1_score, recall_score, precision_score\n",
    "\n",
    "# Calculate F1 score\n",
    "f1 = f1_score(test_labels, predictions, average='weighted')\n",
    "print(\"F1 Score:\", f1)"
   ]
  },
  {
   "cell_type": "code",
   "execution_count": 19,
   "id": "fe5c169d",
   "metadata": {},
   "outputs": [
    {
     "name": "stdout",
     "output_type": "stream",
     "text": [
      "Recall: 0.9503968253968254\n"
     ]
    }
   ],
   "source": [
    "# Calculate recall\n",
    "recall = recall_score(test_labels, predictions, average='weighted')\n",
    "print(\"Recall:\", recall)"
   ]
  },
  {
   "cell_type": "code",
   "execution_count": 20,
   "id": "366339b4",
   "metadata": {},
   "outputs": [
    {
     "name": "stdout",
     "output_type": "stream",
     "text": [
      "Precision: 0.9830304928989139\n"
     ]
    }
   ],
   "source": [
    "# Calculate precision\n",
    "precision = precision_score(test_labels, predictions, average='weighted')\n",
    "print(\"Precision:\", precision)"
   ]
  }
 ],
 "metadata": {
  "kernelspec": {
   "display_name": "Python 3 (ipykernel)",
   "language": "python",
   "name": "python3"
  },
  "language_info": {
   "codemirror_mode": {
    "name": "ipython",
    "version": 3
   },
   "file_extension": ".py",
   "mimetype": "text/x-python",
   "name": "python",
   "nbconvert_exporter": "python",
   "pygments_lexer": "ipython3",
   "version": "3.10.9"
  }
 },
 "nbformat": 4,
 "nbformat_minor": 5
}
